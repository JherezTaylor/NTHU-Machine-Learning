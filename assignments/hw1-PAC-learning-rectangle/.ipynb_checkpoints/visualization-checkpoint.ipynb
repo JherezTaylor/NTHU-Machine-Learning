{
 "cells": [
  {
   "cell_type": "code",
   "execution_count": 13,
   "metadata": {
    "collapsed": true
   },
   "outputs": [],
   "source": [
    "import time\n",
    "import math\n",
    "import random\n",
    "import numpy as np\n",
    "import matplotlib.pyplot as plt\n",
    "%matplotlib inline"
   ]
  },
  {
   "cell_type": "code",
   "execution_count": 14,
   "metadata": {
    "collapsed": true
   },
   "outputs": [],
   "source": [
    "\"\"\" PAC learning framework \"\"\"\n",
    "\n",
    "class Rectangle:\n",
    "    def __init__(self, min_x, min_y, max_x, max_y):\n",
    "        self.min_x = min_x\n",
    "        self.max_x = max_x\n",
    "        self.min_y = min_y\n",
    "        self.max_y = max_y\n",
    "        self.width = max_x - min_x\n",
    "        self.height = max_y - min_y\n",
    "\n",
    "    def in_rectangle(self, X):\n",
    "        return np.array((X[:,0] >= self.min_x) & (X[:,0] <= self.max_x) & (X[:,1] >= self.min_y) & (X[:,1] <= self.max_y))\n",
    "\n",
    "def estimate_prob_of_target_rectangle(X, R_target):\n",
    "    # Classify points\n",
    "    labels = R_target.in_rectangle(X)\n",
    "\n",
    "    # Estimate probability of unknown target concept with empirical probability\n",
    "    # Size of data from normal distribution must be ceil((1.8595/eps)**2)\n",
    "    p_hat = np.mean(labels)\n",
    "\n",
    "    return p_hat\n",
    "\n",
    "def generate_target_rectangle(X, eps):\n",
    "    \"\"\" Generate unknown target concept that p_hat(c) >= 3*eps \"\"\"\n",
    "\n",
    "    print('[*] Generating concept from sample size: {}'.format(len(X)))\n",
    "\n",
    "    while True:\n",
    "        # Generate corner points of rectangle\n",
    "        min_x = np.min(X[:,0])\n",
    "        min_y = np.min(X[:,1])\n",
    "        mid_x = np.median(X[:,0])\n",
    "        mid_y = np.median(X[:,1])\n",
    "        max_x = np.max(X[:,0])\n",
    "        max_y = np.max(X[:,1])\n",
    "\n",
    "        rect_min_x = random.randrange(int(min_x), int(mid_x))\n",
    "        rect_min_y = random.randrange(int(min_y), int(mid_y))\n",
    "        rect_max_x = random.randrange(int(mid_x), int(max_x))\n",
    "        rect_max_y = random.randrange(int(mid_y), int(max_y))\n",
    "\n",
    "        # Generate unknown target concept\n",
    "        R_target = Rectangle(min_x=rect_min_x,\n",
    "                             min_y=rect_min_y,\n",
    "                             max_x=rect_max_x,\n",
    "                             max_y=rect_max_y)\n",
    "\n",
    "        # Estimate probability of unknown target concept with empirical probability\n",
    "        # Size of data from normal distribution must be ceil((1.8595/eps)**2)\n",
    "        p_hat = estimate_prob_of_target_rectangle(X, R_target)\n",
    "\n",
    "        if p_hat >= 3*eps:\n",
    "            print('[*] Requirement P(c) > {} is qualified. p_hat ({}) >= {}'.format(2*eps, p_hat, 3*eps))\n",
    "            print('[*] Successfully generate concept.')\n",
    "            return R_target\n",
    "        else:\n",
    "            print('[!] Requirement P(c) > {} is not qualified. p_hat ({}) < {}'.format(2*eps, p_hat, 3*eps))\n",
    "            print('[!] Re-generate concept...')\n",
    "\n",
    "\n",
    "def generate_hypothesis_rectangle(X, R_target):\n",
    "    \"\"\" Algorithm for generating a good hypothesis from hypothesis set.\n",
    "        In our case, the hypothesis set is same as the concept class,\n",
    "        that is, all the possible rectangles in 2-D plane.\n",
    "        Our goal is to learn a good rectangle that is approximate to our target unknown rectangle.\n",
    "        Thus, our strategy is to select the \"tightest\" rectangle containing the points in our target unknown rectangle.\n",
    "    \"\"\"\n",
    "\n",
    "    # print('[*] Generating hypothesis from sample size: {}'.format(len(X)))\n",
    "\n",
    "    # Classify points\n",
    "    labels = R_target.in_rectangle(X)\n",
    "\n",
    "    # Select the tightest corner points in unknown target rectangle\n",
    "    tight_rect_min_x = np.min(X[labels == 1, 0])\n",
    "    tight_rect_min_y = np.min(X[labels == 1, 1])\n",
    "    tight_rect_max_x = np.max(X[labels == 1, 0])\n",
    "    tight_rect_max_y = np.max(X[labels == 1, 1])\n",
    "\n",
    "    # Generate our good hypothesis\n",
    "    R_hypothesis = Rectangle(min_x=tight_rect_min_x,\n",
    "                             min_y=tight_rect_min_y,\n",
    "                             max_x=tight_rect_max_x,\n",
    "                             max_y=tight_rect_max_y)\n",
    "\n",
    "    return R_hypothesis\n",
    "\n",
    "def estimate_generalization_error(X, R_target, R_hypothesis):\n",
    "    # print('[*] Estimating generalization error of hypothesis from sample size: {}'.format(len(X)))\n",
    "\n",
    "    # Generate test true labels\n",
    "    label_true = R_target.in_rectangle(X)\n",
    "\n",
    "    # Make predictions\n",
    "    label_pred = R_hypothesis.in_rectangle(X)\n",
    "\n",
    "    # Misclassified labels\n",
    "    label_error = (label_true != label_pred)\n",
    "\n",
    "    # Calculate error\n",
    "    generalization_error = np.mean(label_error)\n",
    "\n",
    "    return generalization_error"
   ]
  },
  {
   "cell_type": "code",
   "execution_count": 15,
   "metadata": {
    "collapsed": false
   },
   "outputs": [
    {
     "name": "stdout",
     "output_type": "stream",
     "text": [
      "[*] Input arguments:\n",
      "    - delta: 0.01\n",
      "    - epsilon: 0.1\n",
      "    - mean_x: 0.0, mean_y: 0.0\n",
      "    - std_x: 1.0, std_y: 1.0, r_xy: 0.5\n",
      "    - corvariance matrix: [[1.0, 0.5], [0.5, 1.0]]\n"
     ]
    }
   ],
   "source": [
    "\"\"\" Main \"\"\"\n",
    "\n",
    "# Arguments\n",
    "delta = 0.01\n",
    "eps = 0.1\n",
    "mean_x = 0.0\n",
    "mean_y = 0.0\n",
    "std_x = 1.0\n",
    "std_y = 1.0\n",
    "r_xy = 0.5\n",
    "mean = [mean_x, mean_y]\n",
    "cov = [[std_x**2, r_xy*std_x*std_y], [r_xy*std_x*std_y, std_y**2]]\n",
    "\n",
    "# Print arguments information\n",
    "print('[*] Input arguments:')\n",
    "print('    - delta: {}'.format(delta))\n",
    "print('    - epsilon: {}'.format(eps))\n",
    "print('    - mean_x: {}, mean_y: {}'.format(mean_x, mean_y))\n",
    "print('    - std_x: {}, std_y: {}, r_xy: {}'.format(std_x, std_y, r_xy))\n",
    "print('    - corvariance matrix: {}'.format(cov))"
   ]
  },
  {
   "cell_type": "code",
   "execution_count": 18,
   "metadata": {
    "collapsed": false
   },
   "outputs": [
    {
     "name": "stdout",
     "output_type": "stream",
     "text": [
      "[*] Generating concept from sample size: 346\n",
      "[*] Requirement P(c) > 0.2 is qualified. p_hat (0.42196531791907516) >= 0.30000000000000004\n",
      "[*] Successfully generate concept.\n"
     ]
    },
    {
     "data": {
      "image/png": "[encoded data removed]",
      "text/plain": [
       "<matplotlib.figure.Figure at 0x117c60978>"
      ]
     },
     "metadata": {},
     "output_type": "display_data"
    }
   ],
   "source": [
    "# Generate unknown target concept (axis-aligned rectangle) from sample size N\n",
    "# Handle unknown target concept\n",
    "N = int(math.ceil((1.8595/eps)**2))\n",
    "X_N = np.random.multivariate_normal(mean=mean, cov=cov, size=N)\n",
    "\n",
    "# Generate unknown target concept (axis-aligned rectangle) from sample size N\n",
    "R_target = generate_target_rectangle(X_N, eps)\n",
    "\n",
    "label_true = R_target.in_rectangle(X_N)\n",
    "\n",
    "plt.plot([R_target.min_x, R_target.max_x], [R_target.min_y, R_target.max_y] , '+', c='b')\n",
    "plt.plot(X_N[label_true == 0, 0], X_N[label_true == 0, 1], '.', c='g')\n",
    "plt.plot(X_N[label_true == 1, 0], X_N[label_true == 1, 1], '.', c='b')\n",
    "plt.axis('equal')\n",
    "plt.show()"
   ]
  },
  {
   "cell_type": "code",
   "execution_count": 19,
   "metadata": {
    "collapsed": false
   },
   "outputs": [
    {
     "name": "stdout",
     "output_type": "stream",
     "text": [
      "[*] Generalization error of hypothesis (0.014111304899318219)\n"
     ]
    },
    {
     "data": {
      "image/png": "[encoded data removed]",
      "text/plain": [
       "<matplotlib.figure.Figure at 0x1176749b0>"
      ]
     },
     "metadata": {},
     "output_type": "display_data"
    }
   ],
   "source": [
    "# Generate our good hypothesis to approximate unknown target concept from sample size m\n",
    "m = int(math.ceil((4/eps) * math.log(4/delta)))\n",
    "X_m = np.random.multivariate_normal(mean=mean, cov=cov, size=m)\n",
    "R_hypothesis = generate_hypothesis_rectangle(X_m, R_target)\n",
    "\n",
    "# Estimate generalization error of hypothesis\n",
    "M = int(math.ceil((19.453/eps)**2))\n",
    "X_M = np.random.multivariate_normal(mean=mean, cov=cov, size=M)\n",
    "\n",
    "# Generate test true labels\n",
    "label_true = R_target.in_rectangle(X_M)\n",
    "# Make predictions\n",
    "label_pred = R_hypothesis.in_rectangle(X_M)\n",
    "# Misclassified labels\n",
    "label_error = (label_true != label_pred)\n",
    "# Calculate error\n",
    "generalization_error = np.mean(label_error)\n",
    "\n",
    "print('[*] Generalization error of hypothesis ({})'.format(generalization_error))\n",
    "\n",
    "plt.plot(X_M[label_true == 1, 0], X_M[label_true == 1, 1], '.', c='b')\n",
    "plt.plot(X_M[label_true == 0, 0], X_M[label_true == 0, 1], '.', c='g')\n",
    "plt.plot(X_M[label_error == 1, 0], X_M[label_error == 1, 1], 'x', c='r')\n",
    "plt.axis('equal')\n",
    "plt.show()"
   ]
  },
  {
   "cell_type": "code",
   "execution_count": null,
   "metadata": {
    "collapsed": true
   },
   "outputs": [],
   "source": []
  }
 ],
 "metadata": {
  "anaconda-cloud": {},
  "kernelspec": {
   "display_name": "Python [conda env:python3]",
   "language": "python",
   "name": "conda-env-python3-py"
  },
  "language_info": {
   "codemirror_mode": {
    "name": "ipython",
    "version": 3
   },
   "file_extension": ".py",
   "mimetype": "text/x-python",
   "name": "python",
   "nbconvert_exporter": "python",
   "pygments_lexer": "ipython3",
   "version": "3.6.0"
  }
 },
 "nbformat": 4,
 "nbformat_minor": 1
}
